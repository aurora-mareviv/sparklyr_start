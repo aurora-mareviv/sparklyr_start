{
 "cells": [
  {
   "cell_type": "markdown",
   "metadata": {
    "collapsed": true
   },
   "source": [
    "# Sparklyr workshop - R Users Galicia"
   ]
  },
  {
   "cell_type": "markdown",
   "metadata": {},
   "source": [
    "### 16 July 2019"
   ]
  },
  {
   "cell_type": "markdown",
   "metadata": {},
   "source": [
    "## Table of Contents\n",
    "\n",
    "- [What is sparklyr?](#What-is-sparklyr?)\n",
    "- [Kickstart](#Kickstart)\n",
    "- [R console](#Launch-R-console-first)\n",
    "- [Jupyter](#Launch-Jupyter)\n",
    "- [Uploading the data in JSON format](#Uploading-the-data-in-JSON-format)\n",
    "- [Spark and R in Jupyter](#Spark-and-R-in-Jupyter)\n",
    "- [Reading JSON into Spark context: `jscars.json`](#Reading-JSON-into-Spark-context:-jscars.json)\n",
    "    - [Basic data wrangling](#Basic-data-wrangling)\n",
    "    - [Using Hive functions and UDFs](#Using-Hive-functions-and-UDFs)\n",
    "    - [Pattern matching](#Pattern-matching-(PostgreSQL))\n",
    "    - [Graphs](#Graphs)\n",
    "    - [Models: K-means](#Models:-K-means)\n",
    "- [Kill YARN application and free memory](#Kill-YARN-application-and-free-memory)\n",
    "- [User Interface](#User-Interface)\n",
    "- [Session](#Session)\n",
    "    - [Paths recognised by R](#Paths-recognised-by-sparkR)\n",
    "    - [R session info](#R-session-info)\n",
    "- [References](#References)"
   ]
  },
  {
   "cell_type": "markdown",
   "metadata": {},
   "source": [
    "## What is sparklyr?\n",
    "\n",
    "- Exposes Spark's API (in Scala) from R.  \n",
    "\n",
    "- Spark lets us access to the Hadoop ecocystem.\n",
    "\n",
    "- To put it simple, <span style=\"color:#fffff;font-family:monospace;\"> dplyr</span> over Spark!.\n",
    "\n",
    "- Created by Rstudio in 2016.\n",
    "\n",
    "[How does Spark work?](https://aurora-mareviv.github.io/sparklyr_test/#/como-funciona-spark-2)\n"
   ]
  },
  {
   "cell_type": "markdown",
   "metadata": {},
   "source": [
    "## Kickstart"
   ]
  },
  {
   "cell_type": "markdown",
   "metadata": {},
   "source": [
    "Please, read the [pyspark course](https://github.com/javicacheiro/pyspark_course/blob/master/unit_1_tools.ipynb) here (points 1.1 to 1.3)."
   ]
  },
  {
   "cell_type": "markdown",
   "metadata": {},
   "source": [
    "[Updated jul 2019]\n",
    "\n",
    "Open a terminal\n",
    "\n",
    "Connect to one of the login nodes of the Hadoop Hortonworks Data Platform (HDP) cluster (remember to activate Forticlient VPN first!):\n",
    "\n",
    "    MY_CESGA_USER='abcdef' # my CESGA username \n",
    "    ssh $MY_CESGA_USER@hadoop3.cesga.es\n",
    "\n",
    "In the new HDP server you have to load the Anaconda module that has the R distribution that works with Spark. \n",
    "\n",
    "This command needs to be executed everytime a new console is opened at CESGA:\n",
    "\n",
    "    module load anaconda2  # run only once for every console \n",
    "    \n",
    "To see the available modules type:\n",
    "    \n",
    "    module available # module av"
   ]
  },
  {
   "cell_type": "markdown",
   "metadata": {},
   "source": [
    "## Launch R console first"
   ]
  },
  {
   "cell_type": "markdown",
   "metadata": {},
   "source": [
    "#### <font color='#b3b3b3'>Configuring Spark and R kernel using .bashrc (currently not recommended)</font>\n",
    "\n",
    "<br>\n",
    "<font color='#b3b3b3'>\n",
    "    \n",
    "*We could add environment variables to .bashrc to avoid setting `Sys.setenv` in `R`.*\n",
    "\n",
    "However, it is better to set `Sys.setenv()` as the **Anaconda version may change!** \n",
    "\n",
    "\n",
    "    cd $HOME\n",
    "    export R_PROFILE_USER=/usr/hdp/2.4.2.0-258/spark/R/lib/SparkR/profile/shell.R\n",
    "    # reload .bashrc\n",
    "    source .bashrc\n",
    "    \n"
   ]
  },
  {
   "cell_type": "markdown",
   "metadata": {},
   "source": [
    "### Open R\n",
    "\n",
    "Launch **R** (version 3.5.1 as of july 2019):\n",
    "\n",
    "    R\n",
    "\n",
    "### Install libraries in R\n",
    "\n",
    "Install the libraries as needed. When you finish, exit the interactive `sparkR` session.\n",
    "\n",
    "    > install.packages(c(\"sparklyr\", \"dplyr\", \"knitr\", \"ggplot2\", \"repr\")\n",
    "    > q()"
   ]
  },
  {
   "cell_type": "code",
   "execution_count": 25,
   "metadata": {},
   "outputs": [
    {
     "data": {
      "text/html": [
       "'/usr/hdp/2.4.2.0-258/spark/R/lib/SparkR/profile/shell.R'"
      ],
      "text/latex": [
       "'/usr/hdp/2.4.2.0-258/spark/R/lib/SparkR/profile/shell.R'"
      ],
      "text/markdown": [
       "'/usr/hdp/2.4.2.0-258/spark/R/lib/SparkR/profile/shell.R'"
      ],
      "text/plain": [
       "[1] \"/usr/hdp/2.4.2.0-258/spark/R/lib/SparkR/profile/shell.R\""
      ]
     },
     "metadata": {},
     "output_type": "display_data"
    }
   ],
   "source": [
    "Sys.getenv('R_PROFILE_USER')"
   ]
  },
  {
   "cell_type": "markdown",
   "metadata": {},
   "source": [
    "## Launch Jupyter\n",
    "\n",
    "To init a Jupyter notebook:\n",
    "\n",
    "- Open a new console window.\n",
    "\n",
    "- Connect to one of the login nodes of the Hadoop Hortonworks Data Platform (HDP) cluster: \n",
    "\n",
    "      ssh $MY_CESGA_USER@hadoop.cesga.es\n",
    "\n",
    "- Load Anaconda2 distribution:\n",
    "\n",
    "      module load anaconda2\n",
    "\n",
    "- Launch the Jupyter notebook: \n",
    "\n",
    "      start_jupyter\n",
    "    \n",
    "\n",
    "- Follow the instructions in the console. You may be asked to paste an URL token into your browser. \n",
    "\n",
    "- Open the provided link in the browser\n",
    "\n",
    "The notebook you have launched is tightly integrated with Spark in order to:\n",
    "\n",
    "- Automatically opens a sparkR session with the cluster\n",
    "- Dynamically expands the required executors in the cluster\n",
    "- The console provides useful debugging information, showing Spark messages.\n",
    "\n",
    "When you finish your interactive work remember to close the notebook properly:\n",
    "\n",
    "- File -> Close and Halt\n",
    "\n",
    "\n",
    "**Tip**: it is a good idea to leave two consoles open simultaneously, one for Jupyter (to open the notebook) and the other for Bash and sparkR commands.\n"
   ]
  },
  {
   "cell_type": "markdown",
   "metadata": {},
   "source": [
    "## Uploading the data in JSON format "
   ]
  },
  {
   "cell_type": "markdown",
   "metadata": {},
   "source": [
    "First, we need to upload our data from our NFS **HOME** to the HDFS **HOME** directory.  \n",
    "- You can add a single file, or an entire folder.\n",
    "- You can also list or delete files, folders.\n",
    "\n",
    "### HDFS overview and commands\n",
    "\n",
    "See the [pyspark course](https://github.com/javicacheiro/pyspark_course/blob/master/unit_1_tools.ipynb) here (point 1.2) for HDFS basic commands.\n",
    "\n",
    "Let's define some variables:"
   ]
  },
  {
   "cell_type": "markdown",
   "metadata": {},
   "source": [
    "    # my username \n",
    "    MY_CESGA_USER='abcdef' \n",
    "    \n",
    "    # my HDFS HOME \n",
    "    MY_HDFS_HOME=/user/$MY_CESGA_USER/    \n",
    "    \n",
    "    # my NFS HOME \n",
    "    MY_NFS_HOME=$HOME"
   ]
  },
  {
   "cell_type": "markdown",
   "metadata": {},
   "source": [
    "HDFS basic commands:"
   ]
  },
  {
   "cell_type": "markdown",
   "metadata": {},
   "source": [
    "    # import data into hdfs (jscars.json): \n",
    "    hdfs dfs -put $MY_NFS_HOME/Rsession/sparklyr_start/data/jscars.json  # adapt to your path\n",
    "    \n",
    "    # list files \n",
    "    hdfs dfs -ls \n",
    "    # list files in a directory \n",
    "    hdfs dfs -ls $MY_HDFS_HOME\n",
    "    # create a directory called 'data': \n",
    "    hdfs dfs -mkdir data \n",
    "    # delete a directory: \n",
    "    hdfs dfs -rm -r -f data\n",
    "    # delete files, folders from hdfs\n",
    "    hdfs dfs -rm -r -f data/jscars.json"
   ]
  },
  {
   "cell_type": "markdown",
   "metadata": {},
   "source": [
    "## Spark and R in Jupyter"
   ]
  },
  {
   "cell_type": "markdown",
   "metadata": {},
   "source": [
    "Set `R` environment variables (needed for Jupyter notebooks in the cluster `R` installation)."
   ]
  },
  {
   "cell_type": "code",
   "execution_count": 2,
   "metadata": {},
   "outputs": [],
   "source": [
    "# Sys.setenv(SPARK_HOME='/usr/hdp/2.4.2.0-258/spark/R/lib/SparkR/profile/shell.R') \n",
    "  # commented after being added to .bashrc\n",
    ".libPaths(c(file.path(Sys.getenv('SPARK_HOME'), 'R', 'lib'), .libPaths()))"
   ]
  },
  {
   "cell_type": "code",
   "execution_count": 4,
   "metadata": {},
   "outputs": [
    {
     "data": {
      "text/html": [
       "'/usr/hdp/2.4.2.0-258/spark'"
      ],
      "text/latex": [
       "'/usr/hdp/2.4.2.0-258/spark'"
      ],
      "text/markdown": [
       "'/usr/hdp/2.4.2.0-258/spark'"
      ],
      "text/plain": [
       "[1] \"/usr/hdp/2.4.2.0-258/spark\""
      ]
     },
     "metadata": {},
     "output_type": "display_data"
    }
   ],
   "source": [
    "Sys.getenv('SPARK_HOME')"
   ]
  },
  {
   "cell_type": "markdown",
   "metadata": {},
   "source": [
    "Load libraries:"
   ]
  },
  {
   "cell_type": "code",
   "execution_count": 5,
   "metadata": {},
   "outputs": [],
   "source": [
    "options(warn = -1) # disable warnings"
   ]
  },
  {
   "cell_type": "code",
   "execution_count": 7,
   "metadata": {},
   "outputs": [
    {
     "data": {
      "text/html": [
       "<ol>\n",
       "\t<li>TRUE</li>\n",
       "\t<li>TRUE</li>\n",
       "\t<li>TRUE</li>\n",
       "\t<li>TRUE</li>\n",
       "\t<li>TRUE</li>\n",
       "</ol>\n"
      ],
      "text/latex": [
       "\\begin{enumerate}\n",
       "\\item TRUE\n",
       "\\item TRUE\n",
       "\\item TRUE\n",
       "\\item TRUE\n",
       "\\item TRUE\n",
       "\\end{enumerate}\n"
      ],
      "text/markdown": [
       "1. TRUE\n",
       "2. TRUE\n",
       "3. TRUE\n",
       "4. TRUE\n",
       "5. TRUE\n",
       "\n",
       "\n"
      ],
      "text/plain": [
       "[[1]]\n",
       "[1] TRUE\n",
       "\n",
       "[[2]]\n",
       "[1] TRUE\n",
       "\n",
       "[[3]]\n",
       "[1] TRUE\n",
       "\n",
       "[[4]]\n",
       "[1] TRUE\n",
       "\n",
       "[[5]]\n",
       "[1] TRUE\n"
      ]
     },
     "metadata": {},
     "output_type": "display_data"
    }
   ],
   "source": [
    "x <- c(\"sparklyr\", \"dplyr\", \"knitr\", \"ggplot2\", \"repr\")\n",
    "lapply(x, require, character.only = TRUE, quietly = TRUE)"
   ]
  },
  {
   "cell_type": "markdown",
   "metadata": {},
   "source": [
    "### Loading spark context (RDDs)"
   ]
  },
  {
   "cell_type": "markdown",
   "metadata": {},
   "source": [
    "Currently there are three types of contexts:\n",
    "\n",
    "- Local context: \n",
    "    - Interactive. \n",
    "    - If the user exits session, the tasks are terminated (use `screen` to run after session close).\n",
    "    - All processes reside in the LOGIN node (both drivers and executors).\n",
    "    - Can only be used for tasks that require very few resources.\n",
    "    - .Rmd notebook to run in your local computer\n",
    "- YARN-client: \n",
    "    - Interactive.\n",
    "    - If the user exits session, the tasks are terminated (use `screen` to run after session close).\n",
    "    - The driver resides in the LOGIN node, but the executors are in the CLUSTER nodes. Thus, executors can use all the memory available for the task in the CLUSTER nodes.\n",
    "    - Can be used for memory-intensive tasks.\n",
    "- YARN-cluster:\n",
    "    - Not interactive.\n",
    "    - Both the driver and the executors reside in the CLUSTER nodes.\n",
    "    - Can be used for memory-intensive tasks.\n",
    "    - Currenty doesn't seem available for this version of `R/sparklyr`.\n",
    "    \n",
    "Defining a new context (`sc`) overwrites the previous one."
   ]
  },
  {
   "cell_type": "code",
   "execution_count": 8,
   "metadata": {},
   "outputs": [],
   "source": [
    "SPARK_HOME = Sys.getenv('SPARK_HOME')"
   ]
  },
  {
   "cell_type": "code",
   "execution_count": 26,
   "metadata": {},
   "outputs": [
    {
     "name": "stderr",
     "output_type": "stream",
     "text": [
      "Re-using existing Spark connection to yarn-client\n"
     ]
    }
   ],
   "source": [
    "# Initiating spark context: local (for 'low memory' tasks only!)\n",
    "# sc <- spark_connect(master = \"local\", spark_home = SPARK_HOME)\n",
    "\n",
    "# Initiating spark context: yarn (for loading bigger datasets)\n",
    "sc <- spark_connect(master = \"yarn-client\", spark_home = SPARK_HOME)"
   ]
  },
  {
   "cell_type": "markdown",
   "metadata": {},
   "source": [
    "## Reading JSON into Spark context: `jscars.json`"
   ]
  },
  {
   "cell_type": "markdown",
   "metadata": {},
   "source": [
    "The data `jscars.json` is the `mtcars` dataset saved in a JSON format.\n",
    "\n",
    "Beware: the command `getwd()` gives us our NFS working directory, not an HDFS directory."
   ]
  },
  {
   "cell_type": "code",
   "execution_count": 10,
   "metadata": {},
   "outputs": [],
   "source": [
    "wdir <- getwd() # NFS working directory, not HDFS!"
   ]
  },
  {
   "cell_type": "markdown",
   "metadata": {},
   "source": [
    "To import files, we must refer to the path in the HDFS directory tree (see `$ hdfs dfs -ls`):"
   ]
  },
  {
   "cell_type": "code",
   "execution_count": 11,
   "metadata": {},
   "outputs": [],
   "source": [
    "jscars <- spark_read_json(sc, name = \"jscars\", path = \"jscars.json\") # HDFS working directory"
   ]
  },
  {
   "cell_type": "code",
   "execution_count": 12,
   "metadata": {},
   "outputs": [
    {
     "data": {
      "text/html": [
       "<table>\n",
       "<thead><tr><th scope=col>am</th><th scope=col>carb</th><th scope=col>cyl</th><th scope=col>disp</th><th scope=col>drat</th><th scope=col>gear</th><th scope=col>hp</th><th scope=col>mpg</th><th scope=col>qsec</th><th scope=col>vs</th><th scope=col>wt</th></tr></thead>\n",
       "<tbody>\n",
       "\t<tr><td>1    </td><td>4    </td><td>6    </td><td>160  </td><td>3.90 </td><td>4    </td><td>110  </td><td>21.0 </td><td>16.46</td><td>0    </td><td>2.620</td></tr>\n",
       "\t<tr><td>1    </td><td>4    </td><td>6    </td><td>160  </td><td>3.90 </td><td>4    </td><td>110  </td><td>21.0 </td><td>17.02</td><td>0    </td><td>2.875</td></tr>\n",
       "\t<tr><td>1    </td><td>1    </td><td>4    </td><td>108  </td><td>3.85 </td><td>4    </td><td> 93  </td><td>22.8 </td><td>18.61</td><td>1    </td><td>2.320</td></tr>\n",
       "\t<tr><td>0    </td><td>1    </td><td>6    </td><td>258  </td><td>3.08 </td><td>3    </td><td>110  </td><td>21.4 </td><td>19.44</td><td>1    </td><td>3.215</td></tr>\n",
       "\t<tr><td>0    </td><td>2    </td><td>8    </td><td>360  </td><td>3.15 </td><td>3    </td><td>175  </td><td>18.7 </td><td>17.02</td><td>0    </td><td>3.440</td></tr>\n",
       "\t<tr><td>0    </td><td>1    </td><td>6    </td><td>225  </td><td>2.76 </td><td>3    </td><td>105  </td><td>18.1 </td><td>20.22</td><td>1    </td><td>3.460</td></tr>\n",
       "</tbody>\n",
       "</table>\n"
      ],
      "text/latex": [
       "\\begin{tabular}{r|lllllllllll}\n",
       " am & carb & cyl & disp & drat & gear & hp & mpg & qsec & vs & wt\\\\\n",
       "\\hline\n",
       "\t 1     & 4     & 6     & 160   & 3.90  & 4     & 110   & 21.0  & 16.46 & 0     & 2.620\\\\\n",
       "\t 1     & 4     & 6     & 160   & 3.90  & 4     & 110   & 21.0  & 17.02 & 0     & 2.875\\\\\n",
       "\t 1     & 1     & 4     & 108   & 3.85  & 4     &  93   & 22.8  & 18.61 & 1     & 2.320\\\\\n",
       "\t 0     & 1     & 6     & 258   & 3.08  & 3     & 110   & 21.4  & 19.44 & 1     & 3.215\\\\\n",
       "\t 0     & 2     & 8     & 360   & 3.15  & 3     & 175   & 18.7  & 17.02 & 0     & 3.440\\\\\n",
       "\t 0     & 1     & 6     & 225   & 2.76  & 3     & 105   & 18.1  & 20.22 & 1     & 3.460\\\\\n",
       "\\end{tabular}\n"
      ],
      "text/markdown": [
       "\n",
       "am | carb | cyl | disp | drat | gear | hp | mpg | qsec | vs | wt | \n",
       "|---|---|---|---|---|---|\n",
       "| 1     | 4     | 6     | 160   | 3.90  | 4     | 110   | 21.0  | 16.46 | 0     | 2.620 | \n",
       "| 1     | 4     | 6     | 160   | 3.90  | 4     | 110   | 21.0  | 17.02 | 0     | 2.875 | \n",
       "| 1     | 1     | 4     | 108   | 3.85  | 4     |  93   | 22.8  | 18.61 | 1     | 2.320 | \n",
       "| 0     | 1     | 6     | 258   | 3.08  | 3     | 110   | 21.4  | 19.44 | 1     | 3.215 | \n",
       "| 0     | 2     | 8     | 360   | 3.15  | 3     | 175   | 18.7  | 17.02 | 0     | 3.440 | \n",
       "| 0     | 1     | 6     | 225   | 2.76  | 3     | 105   | 18.1  | 20.22 | 1     | 3.460 | \n",
       "\n",
       "\n"
      ],
      "text/plain": [
       "  am carb cyl disp drat gear hp  mpg  qsec  vs wt   \n",
       "1 1  4    6   160  3.90 4    110 21.0 16.46 0  2.620\n",
       "2 1  4    6   160  3.90 4    110 21.0 17.02 0  2.875\n",
       "3 1  1    4   108  3.85 4     93 22.8 18.61 1  2.320\n",
       "4 0  1    6   258  3.08 3    110 21.4 19.44 1  3.215\n",
       "5 0  2    8   360  3.15 3    175 18.7 17.02 0  3.440\n",
       "6 0  1    6   225  2.76 3    105 18.1 20.22 1  3.460"
      ]
     },
     "metadata": {},
     "output_type": "display_data"
    }
   ],
   "source": [
    "jscars %>%\n",
    "  head(6) %>%\n",
    "  collect()"
   ]
  },
  {
   "cell_type": "markdown",
   "metadata": {},
   "source": [
    "### Basic data wrangling"
   ]
  },
  {
   "cell_type": "markdown",
   "metadata": {},
   "source": [
    "We can make good use of `magrittr::%>%` *pipes* for data wrangling or window operations:  \n",
    "The `warnings` issued here are usually not important. They depend on the `sparklyr` version. See [here](https://github.com/rstudio/sparklyr/issues/426) for more info."
   ]
  },
  {
   "cell_type": "code",
   "execution_count": 13,
   "metadata": {
    "scrolled": true
   },
   "outputs": [
    {
     "data": {
      "text/html": [
       "<table>\n",
       "<thead><tr><th scope=col>vs</th><th scope=col>gear</th><th scope=col>mpg_rank</th><th scope=col>horsepower_by_gear</th></tr></thead>\n",
       "<tbody>\n",
       "\t<tr><td>0</td><td>3</td><td>1</td><td>4</td></tr>\n",
       "\t<tr><td>0</td><td>3</td><td>1</td><td>5</td></tr>\n",
       "\t<tr><td>0</td><td>3</td><td>3</td><td>1</td></tr>\n",
       "\t<tr><td>0</td><td>3</td><td>4</td><td>1</td></tr>\n",
       "\t<tr><td>0</td><td>3</td><td>5</td><td>3</td></tr>\n",
       "\t<tr><td>0</td><td>3</td><td>6</td><td>6</td></tr>\n",
       "</tbody>\n",
       "</table>\n"
      ],
      "text/latex": [
       "\\begin{tabular}{r|llll}\n",
       " vs & gear & mpg\\_rank & horsepower\\_by\\_gear\\\\\n",
       "\\hline\n",
       "\t 0 & 3 & 1 & 4\\\\\n",
       "\t 0 & 3 & 1 & 5\\\\\n",
       "\t 0 & 3 & 3 & 1\\\\\n",
       "\t 0 & 3 & 4 & 1\\\\\n",
       "\t 0 & 3 & 5 & 3\\\\\n",
       "\t 0 & 3 & 6 & 6\\\\\n",
       "\\end{tabular}\n"
      ],
      "text/markdown": [
       "\n",
       "vs | gear | mpg_rank | horsepower_by_gear | \n",
       "|---|---|---|---|---|---|\n",
       "| 0 | 3 | 1 | 4 | \n",
       "| 0 | 3 | 1 | 5 | \n",
       "| 0 | 3 | 3 | 1 | \n",
       "| 0 | 3 | 4 | 1 | \n",
       "| 0 | 3 | 5 | 3 | \n",
       "| 0 | 3 | 6 | 6 | \n",
       "\n",
       "\n"
      ],
      "text/plain": [
       "  vs gear mpg_rank horsepower_by_gear\n",
       "1 0  3    1        4                 \n",
       "2 0  3    1        5                 \n",
       "3 0  3    3        1                 \n",
       "4 0  3    4        1                 \n",
       "5 0  3    5        3                 \n",
       "6 0  3    6        6                 "
      ]
     },
     "metadata": {},
     "output_type": "display_data"
    }
   ],
   "source": [
    "jscars %>%\n",
    "  group_by(vs) %>%\n",
    "  filter(gear == 3, hp > 100) %>%\n",
    "  mutate(horsepower_by_gear = rank(desc(hp / gear))) %>%\n",
    "  mutate(mpg_rank = rank(mpg)) %>%\n",
    "  select(gear, mpg_rank, horsepower_by_gear) %>% \n",
    "  head(6) %>%\n",
    "  collect()"
   ]
  },
  {
   "cell_type": "markdown",
   "metadata": {},
   "source": [
    "### Using Hive functions and UDFs\n",
    "\n",
    "Fortunately, `sparklyr` integrates well with other components in the Hadoop-Spark stack. Here, an example with Hive functions."
   ]
  },
  {
   "cell_type": "code",
   "execution_count": 40,
   "metadata": {},
   "outputs": [
    {
     "data": {
      "text/html": [
       "<table>\n",
       "<thead><tr><th scope=col>am</th><th scope=col>carb</th><th scope=col>cyl</th><th scope=col>disp</th><th scope=col>drat</th><th scope=col>gear</th><th scope=col>hp</th><th scope=col>mpg</th><th scope=col>qsec</th><th scope=col>vs</th><th scope=col>wt</th><th scope=col>date_today</th><th scope=col>date_last</th><th scope=col>days_past</th></tr></thead>\n",
       "<tbody>\n",
       "\t<tr><td>1         </td><td>4         </td><td>6         </td><td>160       </td><td>3,90      </td><td>4         </td><td>110       </td><td>21,0      </td><td>16,46     </td><td>0         </td><td>2,620     </td><td>2019-07-15</td><td>2019-01-01</td><td>196       </td></tr>\n",
       "\t<tr><td>1         </td><td>4         </td><td>6         </td><td>160       </td><td>3,90      </td><td>4         </td><td>110       </td><td>21,0      </td><td>17,02     </td><td>0         </td><td>2,875     </td><td>2019-07-15</td><td>2019-01-01</td><td>196       </td></tr>\n",
       "\t<tr><td>1         </td><td>1         </td><td>4         </td><td>108       </td><td>3,85      </td><td>4         </td><td> 93       </td><td>22,8      </td><td>18,61     </td><td>1         </td><td>2,320     </td><td>2019-07-15</td><td>2019-01-01</td><td>196       </td></tr>\n",
       "\t<tr><td>0         </td><td>1         </td><td>6         </td><td>258       </td><td>3,08      </td><td>3         </td><td>110       </td><td>21,4      </td><td>19,44     </td><td>1         </td><td>3,215     </td><td>2019-07-15</td><td>2019-01-01</td><td>196       </td></tr>\n",
       "\t<tr><td>0         </td><td>2         </td><td>8         </td><td>360       </td><td>3,15      </td><td>3         </td><td>175       </td><td>18,7      </td><td>17,02     </td><td>0         </td><td>3,440     </td><td>2019-07-15</td><td>2019-01-01</td><td>196       </td></tr>\n",
       "\t<tr><td>0         </td><td>1         </td><td>6         </td><td>225       </td><td>2,76      </td><td>3         </td><td>105       </td><td>18,1      </td><td>20,22     </td><td>1         </td><td>3,460     </td><td>2019-07-15</td><td>2019-01-01</td><td>196       </td></tr>\n",
       "</tbody>\n",
       "</table>\n"
      ],
      "text/latex": [
       "\\begin{tabular}{r|llllllllllllll}\n",
       " am & carb & cyl & disp & drat & gear & hp & mpg & qsec & vs & wt & date\\_today & date\\_last & days\\_past\\\\\n",
       "\\hline\n",
       "\t 1          & 4          & 6          & 160        & 3,90       & 4          & 110        & 21,0       & 16,46      & 0          & 2,620      & 2019-07-15 & 2019-01-01 & 196       \\\\\n",
       "\t 1          & 4          & 6          & 160        & 3,90       & 4          & 110        & 21,0       & 17,02      & 0          & 2,875      & 2019-07-15 & 2019-01-01 & 196       \\\\\n",
       "\t 1          & 1          & 4          & 108        & 3,85       & 4          &  93        & 22,8       & 18,61      & 1          & 2,320      & 2019-07-15 & 2019-01-01 & 196       \\\\\n",
       "\t 0          & 1          & 6          & 258        & 3,08       & 3          & 110        & 21,4       & 19,44      & 1          & 3,215      & 2019-07-15 & 2019-01-01 & 196       \\\\\n",
       "\t 0          & 2          & 8          & 360        & 3,15       & 3          & 175        & 18,7       & 17,02      & 0          & 3,440      & 2019-07-15 & 2019-01-01 & 196       \\\\\n",
       "\t 0          & 1          & 6          & 225        & 2,76       & 3          & 105        & 18,1       & 20,22      & 1          & 3,460      & 2019-07-15 & 2019-01-01 & 196       \\\\\n",
       "\\end{tabular}\n"
      ],
      "text/markdown": [
       "\n",
       "am | carb | cyl | disp | drat | gear | hp | mpg | qsec | vs | wt | date_today | date_last | days_past | \n",
       "|---|---|---|---|---|---|\n",
       "| 1          | 4          | 6          | 160        | 3,90       | 4          | 110        | 21,0       | 16,46      | 0          | 2,620      | 2019-07-15 | 2019-01-01 | 196        | \n",
       "| 1          | 4          | 6          | 160        | 3,90       | 4          | 110        | 21,0       | 17,02      | 0          | 2,875      | 2019-07-15 | 2019-01-01 | 196        | \n",
       "| 1          | 1          | 4          | 108        | 3,85       | 4          |  93        | 22,8       | 18,61      | 1          | 2,320      | 2019-07-15 | 2019-01-01 | 196        | \n",
       "| 0          | 1          | 6          | 258        | 3,08       | 3          | 110        | 21,4       | 19,44      | 1          | 3,215      | 2019-07-15 | 2019-01-01 | 196        | \n",
       "| 0          | 2          | 8          | 360        | 3,15       | 3          | 175        | 18,7       | 17,02      | 0          | 3,440      | 2019-07-15 | 2019-01-01 | 196        | \n",
       "| 0          | 1          | 6          | 225        | 2,76       | 3          | 105        | 18,1       | 20,22      | 1          | 3,460      | 2019-07-15 | 2019-01-01 | 196        | \n",
       "\n",
       "\n"
      ],
      "text/plain": [
       "  am carb cyl disp drat gear hp  mpg  qsec  vs wt    date_today date_last \n",
       "1 1  4    6   160  3,90 4    110 21,0 16,46 0  2,620 2019-07-15 2019-01-01\n",
       "2 1  4    6   160  3,90 4    110 21,0 17,02 0  2,875 2019-07-15 2019-01-01\n",
       "3 1  1    4   108  3,85 4     93 22,8 18,61 1  2,320 2019-07-15 2019-01-01\n",
       "4 0  1    6   258  3,08 3    110 21,4 19,44 1  3,215 2019-07-15 2019-01-01\n",
       "5 0  2    8   360  3,15 3    175 18,7 17,02 0  3,440 2019-07-15 2019-01-01\n",
       "6 0  1    6   225  2,76 3    105 18,1 20,22 1  3,460 2019-07-15 2019-01-01\n",
       "  days_past\n",
       "1 196      \n",
       "2 196      \n",
       "3 196      \n",
       "4 196      \n",
       "5 196      \n",
       "6 196      "
      ]
     },
     "metadata": {},
     "output_type": "display_data"
    }
   ],
   "source": [
    "jscars_dates <- jscars %>%\n",
    "  mutate(\n",
    "      date_today = as.Date( current_date() ) # current date retrieved by Hive function \"current_date\"\n",
    "      ) %>%\n",
    "  mutate(\n",
    "      date_last = \"2019-01-01\" \n",
    "      ) %>%\n",
    "  mutate(\n",
    "      days_past = datediff(date_today, date_last) # days substraction using Hive function \"datediff\"\n",
    "      ) \n",
    "\n",
    "jscars_dates %>%\n",
    "head() %>%\n",
    "collect()"
   ]
  },
  {
   "cell_type": "markdown",
   "metadata": {},
   "source": [
    "### Pattern matching (PostgreSQL)\n",
    "We also have the possibility to make regular expressions using the PostgreSQL API, available to sparklyr:"
   ]
  },
  {
   "cell_type": "code",
   "execution_count": 44,
   "metadata": {},
   "outputs": [
    {
     "data": {
      "text/html": [
       "<table>\n",
       "<thead><tr><th scope=col>am</th><th scope=col>carb</th><th scope=col>cyl</th><th scope=col>disp</th><th scope=col>drat</th><th scope=col>gear</th><th scope=col>hp</th><th scope=col>mpg</th><th scope=col>qsec</th><th scope=col>vs</th><th scope=col>wt</th><th scope=col>date_today</th><th scope=col>date_last</th><th scope=col>days_past</th><th scope=col>replaced_year</th></tr></thead>\n",
       "<tbody>\n",
       "\t<tr><td>1         </td><td>4         </td><td>6         </td><td>160       </td><td>3,90      </td><td>4         </td><td>110       </td><td>21,0      </td><td>16,46     </td><td>0         </td><td>2,620     </td><td>2019-07-15</td><td>2019-01-01</td><td>196       </td><td>9999-01-01</td></tr>\n",
       "\t<tr><td>1         </td><td>4         </td><td>6         </td><td>160       </td><td>3,90      </td><td>4         </td><td>110       </td><td>21,0      </td><td>17,02     </td><td>0         </td><td>2,875     </td><td>2019-07-15</td><td>2019-01-01</td><td>196       </td><td>9999-01-01</td></tr>\n",
       "\t<tr><td>1         </td><td>1         </td><td>4         </td><td>108       </td><td>3,85      </td><td>4         </td><td> 93       </td><td>22,8      </td><td>18,61     </td><td>1         </td><td>2,320     </td><td>2019-07-15</td><td>2019-01-01</td><td>196       </td><td>9999-01-01</td></tr>\n",
       "\t<tr><td>0         </td><td>1         </td><td>6         </td><td>258       </td><td>3,08      </td><td>3         </td><td>110       </td><td>21,4      </td><td>19,44     </td><td>1         </td><td>3,215     </td><td>2019-07-15</td><td>2019-01-01</td><td>196       </td><td>9999-01-01</td></tr>\n",
       "\t<tr><td>0         </td><td>2         </td><td>8         </td><td>360       </td><td>3,15      </td><td>3         </td><td>175       </td><td>18,7      </td><td>17,02     </td><td>0         </td><td>3,440     </td><td>2019-07-15</td><td>2019-01-01</td><td>196       </td><td>9999-01-01</td></tr>\n",
       "\t<tr><td>0         </td><td>1         </td><td>6         </td><td>225       </td><td>2,76      </td><td>3         </td><td>105       </td><td>18,1      </td><td>20,22     </td><td>1         </td><td>3,460     </td><td>2019-07-15</td><td>2019-01-01</td><td>196       </td><td>9999-01-01</td></tr>\n",
       "</tbody>\n",
       "</table>\n"
      ],
      "text/latex": [
       "\\begin{tabular}{r|lllllllllllllll}\n",
       " am & carb & cyl & disp & drat & gear & hp & mpg & qsec & vs & wt & date\\_today & date\\_last & days\\_past & replaced\\_year\\\\\n",
       "\\hline\n",
       "\t 1          & 4          & 6          & 160        & 3,90       & 4          & 110        & 21,0       & 16,46      & 0          & 2,620      & 2019-07-15 & 2019-01-01 & 196        & 9999-01-01\\\\\n",
       "\t 1          & 4          & 6          & 160        & 3,90       & 4          & 110        & 21,0       & 17,02      & 0          & 2,875      & 2019-07-15 & 2019-01-01 & 196        & 9999-01-01\\\\\n",
       "\t 1          & 1          & 4          & 108        & 3,85       & 4          &  93        & 22,8       & 18,61      & 1          & 2,320      & 2019-07-15 & 2019-01-01 & 196        & 9999-01-01\\\\\n",
       "\t 0          & 1          & 6          & 258        & 3,08       & 3          & 110        & 21,4       & 19,44      & 1          & 3,215      & 2019-07-15 & 2019-01-01 & 196        & 9999-01-01\\\\\n",
       "\t 0          & 2          & 8          & 360        & 3,15       & 3          & 175        & 18,7       & 17,02      & 0          & 3,440      & 2019-07-15 & 2019-01-01 & 196        & 9999-01-01\\\\\n",
       "\t 0          & 1          & 6          & 225        & 2,76       & 3          & 105        & 18,1       & 20,22      & 1          & 3,460      & 2019-07-15 & 2019-01-01 & 196        & 9999-01-01\\\\\n",
       "\\end{tabular}\n"
      ],
      "text/markdown": [
       "\n",
       "am | carb | cyl | disp | drat | gear | hp | mpg | qsec | vs | wt | date_today | date_last | days_past | replaced_year | \n",
       "|---|---|---|---|---|---|\n",
       "| 1          | 4          | 6          | 160        | 3,90       | 4          | 110        | 21,0       | 16,46      | 0          | 2,620      | 2019-07-15 | 2019-01-01 | 196        | 9999-01-01 | \n",
       "| 1          | 4          | 6          | 160        | 3,90       | 4          | 110        | 21,0       | 17,02      | 0          | 2,875      | 2019-07-15 | 2019-01-01 | 196        | 9999-01-01 | \n",
       "| 1          | 1          | 4          | 108        | 3,85       | 4          |  93        | 22,8       | 18,61      | 1          | 2,320      | 2019-07-15 | 2019-01-01 | 196        | 9999-01-01 | \n",
       "| 0          | 1          | 6          | 258        | 3,08       | 3          | 110        | 21,4       | 19,44      | 1          | 3,215      | 2019-07-15 | 2019-01-01 | 196        | 9999-01-01 | \n",
       "| 0          | 2          | 8          | 360        | 3,15       | 3          | 175        | 18,7       | 17,02      | 0          | 3,440      | 2019-07-15 | 2019-01-01 | 196        | 9999-01-01 | \n",
       "| 0          | 1          | 6          | 225        | 2,76       | 3          | 105        | 18,1       | 20,22      | 1          | 3,460      | 2019-07-15 | 2019-01-01 | 196        | 9999-01-01 | \n",
       "\n",
       "\n"
      ],
      "text/plain": [
       "  am carb cyl disp drat gear hp  mpg  qsec  vs wt    date_today date_last \n",
       "1 1  4    6   160  3,90 4    110 21,0 16,46 0  2,620 2019-07-15 2019-01-01\n",
       "2 1  4    6   160  3,90 4    110 21,0 17,02 0  2,875 2019-07-15 2019-01-01\n",
       "3 1  1    4   108  3,85 4     93 22,8 18,61 1  2,320 2019-07-15 2019-01-01\n",
       "4 0  1    6   258  3,08 3    110 21,4 19,44 1  3,215 2019-07-15 2019-01-01\n",
       "5 0  2    8   360  3,15 3    175 18,7 17,02 0  3,440 2019-07-15 2019-01-01\n",
       "6 0  1    6   225  2,76 3    105 18,1 20,22 1  3,460 2019-07-15 2019-01-01\n",
       "  days_past replaced_year\n",
       "1 196       9999-01-01   \n",
       "2 196       9999-01-01   \n",
       "3 196       9999-01-01   \n",
       "4 196       9999-01-01   \n",
       "5 196       9999-01-01   \n",
       "6 196       9999-01-01   "
      ]
     },
     "metadata": {},
     "output_type": "display_data"
    }
   ],
   "source": [
    "jscars_dates %>%\n",
    "  mutate(\n",
    "      replaced_year = regexp_replace(date_last, '2019', '9999') # PostgreSQL regexp\n",
    "      ) %>%\n",
    "  head() %>%\n",
    "  collect()"
   ]
  },
  {
   "cell_type": "markdown",
   "metadata": {},
   "source": [
    "### Graphs "
   ]
  },
  {
   "cell_type": "code",
   "execution_count": 14,
   "metadata": {},
   "outputs": [
    {
     "name": "stderr",
     "output_type": "stream",
     "text": [
      "`geom_smooth()` using method = 'loess' and formula 'y ~ x'\n"
     ]
    },
    {
     "data": {},
     "metadata": {},
     "output_type": "display_data"
    },
    {
     "data": {
      "image/png": "[encoded data removed]",
      "text/plain": [
       "plot without title"
      ]
     },
     "metadata": {},
     "output_type": "display_data"
    }
   ],
   "source": [
    "options(repr.plot.width=6, repr.plot.height=4) #repr library\n",
    "\n",
    "jscars %>%\n",
    "  collect() %>%\n",
    "    ggplot(aes(wt, mpg)) +\n",
    "    geom_point(aes(colour=factor(gear), size=hp)) + \n",
    "    geom_smooth(colour=\"#737373\", alpha=0.3) + \n",
    "    theme_bw()"
   ]
  },
  {
   "cell_type": "markdown",
   "metadata": {},
   "source": [
    "### Models: K-means "
   ]
  },
  {
   "cell_type": "code",
   "execution_count": 15,
   "metadata": {},
   "outputs": [],
   "source": [
    "kmeans_model <- jscars %>%\n",
    "  select(wt, mpg) %>%\n",
    "  ml_kmeans(y ~ wt + mpg, k = 3)\n",
    "\n",
    "#print(kmeans_model)\n",
    "# kmeans_model %>% str()"
   ]
  },
  {
   "cell_type": "code",
   "execution_count": 16,
   "metadata": {
    "scrolled": true
   },
   "outputs": [
    {
     "data": {
      "text/html": [
       "<table>\n",
       "<thead><tr><th scope=col>am</th><th scope=col>carb</th><th scope=col>cyl</th><th scope=col>disp</th><th scope=col>drat</th><th scope=col>gear</th><th scope=col>hp</th><th scope=col>mpg</th><th scope=col>qsec</th><th scope=col>vs</th><th scope=col>wt</th><th scope=col>features</th><th scope=col>prediction</th></tr></thead>\n",
       "<tbody>\n",
       "\t<tr><td>1          </td><td>4          </td><td>6          </td><td>160        </td><td>3,90       </td><td>4          </td><td>110        </td><td>21,0       </td><td>16,46      </td><td>0          </td><td>2,620      </td><td>2,62, 21,00</td><td>2          </td></tr>\n",
       "\t<tr><td>1            </td><td>4            </td><td>6            </td><td>160          </td><td>3,90         </td><td>4            </td><td>110          </td><td>21,0         </td><td>17,02        </td><td>0            </td><td>2,875        </td><td>2,875, 21,000</td><td>2            </td></tr>\n",
       "\t<tr><td>1          </td><td>1          </td><td>4          </td><td>108        </td><td>3,85       </td><td>4          </td><td> 93        </td><td>22,8       </td><td>18,61      </td><td>1          </td><td>2,320      </td><td>2,32, 22,80</td><td>2          </td></tr>\n",
       "\t<tr><td>0            </td><td>1            </td><td>6            </td><td>258          </td><td>3,08         </td><td>3            </td><td>110          </td><td>21,4         </td><td>19,44        </td><td>1            </td><td>3,215        </td><td>3,215, 21,400</td><td>2            </td></tr>\n",
       "\t<tr><td>0          </td><td>2          </td><td>8          </td><td>360        </td><td>3,15       </td><td>3          </td><td>175        </td><td>18,7       </td><td>17,02      </td><td>0          </td><td>3,440      </td><td>3,44, 18,70</td><td>2          </td></tr>\n",
       "\t<tr><td>0          </td><td>1          </td><td>6          </td><td>225        </td><td>2,76       </td><td>3          </td><td>105        </td><td>18,1       </td><td>20,22      </td><td>1          </td><td>3,460      </td><td>3,46, 18,10</td><td>2          </td></tr>\n",
       "</tbody>\n",
       "</table>\n"
      ],
      "text/latex": [
       "\\begin{tabular}{r|lllllllllllll}\n",
       " am & carb & cyl & disp & drat & gear & hp & mpg & qsec & vs & wt & features & prediction\\\\\n",
       "\\hline\n",
       "\t 1           & 4           & 6           & 160         & 3,90        & 4           & 110         & 21,0        & 16,46       & 0           & 2,620       & 2,62, 21,00 & 2          \\\\\n",
       "\t 1             & 4             & 6             & 160           & 3,90          & 4             & 110           & 21,0          & 17,02         & 0             & 2,875         & 2,875, 21,000 & 2            \\\\\n",
       "\t 1           & 1           & 4           & 108         & 3,85        & 4           &  93         & 22,8        & 18,61       & 1           & 2,320       & 2,32, 22,80 & 2          \\\\\n",
       "\t 0             & 1             & 6             & 258           & 3,08          & 3             & 110           & 21,4          & 19,44         & 1             & 3,215         & 3,215, 21,400 & 2            \\\\\n",
       "\t 0           & 2           & 8           & 360         & 3,15        & 3           & 175         & 18,7        & 17,02       & 0           & 3,440       & 3,44, 18,70 & 2          \\\\\n",
       "\t 0           & 1           & 6           & 225         & 2,76        & 3           & 105         & 18,1        & 20,22       & 1           & 3,460       & 3,46, 18,10 & 2          \\\\\n",
       "\\end{tabular}\n"
      ],
      "text/markdown": [
       "\n",
       "am | carb | cyl | disp | drat | gear | hp | mpg | qsec | vs | wt | features | prediction | \n",
       "|---|---|---|---|---|---|\n",
       "| 1           | 4           | 6           | 160         | 3,90        | 4           | 110         | 21,0        | 16,46       | 0           | 2,620       | 2,62, 21,00 | 2           | \n",
       "| 1             | 4             | 6             | 160           | 3,90          | 4             | 110           | 21,0          | 17,02         | 0             | 2,875         | 2,875, 21,000 | 2             | \n",
       "| 1           | 1           | 4           | 108         | 3,85        | 4           |  93         | 22,8        | 18,61       | 1           | 2,320       | 2,32, 22,80 | 2           | \n",
       "| 0             | 1             | 6             | 258           | 3,08          | 3             | 110           | 21,4          | 19,44         | 1             | 3,215         | 3,215, 21,400 | 2             | \n",
       "| 0           | 2           | 8           | 360         | 3,15        | 3           | 175         | 18,7        | 17,02       | 0           | 3,440       | 3,44, 18,70 | 2           | \n",
       "| 0           | 1           | 6           | 225         | 2,76        | 3           | 105         | 18,1        | 20,22       | 1           | 3,460       | 3,46, 18,10 | 2           | \n",
       "\n",
       "\n"
      ],
      "text/plain": [
       "  am carb cyl disp drat gear hp  mpg  qsec  vs wt    features      prediction\n",
       "1 1  4    6   160  3,90 4    110 21,0 16,46 0  2,620 2,62, 21,00   2         \n",
       "2 1  4    6   160  3,90 4    110 21,0 17,02 0  2,875 2,875, 21,000 2         \n",
       "3 1  1    4   108  3,85 4     93 22,8 18,61 1  2,320 2,32, 22,80   2         \n",
       "4 0  1    6   258  3,08 3    110 21,4 19,44 1  3,215 3,215, 21,400 2         \n",
       "5 0  2    8   360  3,15 3    175 18,7 17,02 0  3,440 3,44, 18,70   2         \n",
       "6 0  1    6   225  2,76 3    105 18,1 20,22 1  3,460 3,46, 18,10   2         "
      ]
     },
     "metadata": {},
     "output_type": "display_data"
    },
    {
     "data": {
      "text/plain": [
       "   \n",
       "     0  1  2\n",
       "  0 10  0  9\n",
       "  1  2  6  5"
      ]
     },
     "metadata": {},
     "output_type": "display_data"
    }
   ],
   "source": [
    "# predict the associated class\n",
    "predicts <- sdf_predict(jscars, kmeans_model) \n",
    "predicted <- collect(predicts)\n",
    "collect(head(predicted))\n",
    "base::table(predicted$am, predicted$prediction)"
   ]
  },
  {
   "cell_type": "code",
   "execution_count": 24,
   "metadata": {
    "scrolled": false
   },
   "outputs": [
    {
     "data": {},
     "metadata": {},
     "output_type": "display_data"
    },
    {
     "data": {
      "image/png": "[encoded data removed]",
      "text/plain": [
       "plot without title"
      ]
     },
     "metadata": {},
     "output_type": "display_data"
    }
   ],
   "source": [
    "# plot cluster membership\n",
    "sdf_predict(jscars, kmeans_model) %>%\n",
    "  collect() %>%\n",
    "  ggplot(aes(wt, mpg)) +\n",
    "    geom_point(aes(wt, mpg, col = factor(prediction + 1)),\n",
    "               size = 2, alpha = 0.5) + \n",
    "    geom_point(data = kmeans_model$centers, aes(wt, mpg),\n",
    "               col = scales::muted(c(\"red\", \"green\", \"blue\")),\n",
    "               pch = 'x', size = 12) +\n",
    "    scale_color_discrete(name = \"Predicted Cluster\",\n",
    "                         labels = paste(\"Cluster\", 1:3)) +\n",
    "    labs(\n",
    "      x = \"wt\",\n",
    "      y = \"mpg\",\n",
    "      title = \"K-Means Clustering\",\n",
    "      subtitle = \"Use Spark.ML to predict cluster membership with the jscars dataset.\"\n",
    "    ) +\n",
    "    theme_bw()"
   ]
  },
  {
   "cell_type": "markdown",
   "metadata": {},
   "source": [
    "## Kill YARN application and free memory\n",
    "\n",
    "How to see the aggregated logs produced by a job:\n",
    "      \n",
    "    yarn logs -applicationId <applicationID> | less\n",
    "\n",
    "How to see the list of running jobs:\n",
    "    \n",
    "    yarn application -list\n",
    "\n",
    "Kill an application:\n",
    "    \n",
    "    yarn application -kill <applicationID>\n",
    "    \n",
    "For further information check [The YARN Tutorial](http://bigdata.cesga.es/tutorials/yarn.html#/)"
   ]
  },
  {
   "cell_type": "markdown",
   "metadata": {},
   "source": [
    "## User Interface\n",
    "\n",
    "Login to have access to the Spark UI\n",
    "\n",
    "[https://bigdata.cesga.es/web-ui/app](https://bigdata.cesga.es/web-ui/app/#/login)"
   ]
  },
  {
   "cell_type": "markdown",
   "metadata": {},
   "source": [
    "## Session "
   ]
  },
  {
   "cell_type": "markdown",
   "metadata": {},
   "source": [
    "### Paths recognised by R "
   ]
  },
  {
   "cell_type": "code",
   "execution_count": 19,
   "metadata": {},
   "outputs": [
    {
     "data": {
      "text/html": [
       "<ol class=list-inline>\n",
       "\t<li>'/usr/hdp/2.4.2.0-258/spark/R/lib'</li>\n",
       "\t<li>'/home/chu/ar/mbg/R/libraries/3.5'</li>\n",
       "\t<li>'/opt/cesga/anaconda/Anaconda2-5.3.0/lib/R/library'</li>\n",
       "</ol>\n"
      ],
      "text/latex": [
       "\\begin{enumerate*}\n",
       "\\item '/usr/hdp/2.4.2.0-258/spark/R/lib'\n",
       "\\item '/home/chu/ar/mbg/R/libraries/3.5'\n",
       "\\item '/opt/cesga/anaconda/Anaconda2-5.3.0/lib/R/library'\n",
       "\\end{enumerate*}\n"
      ],
      "text/markdown": [
       "1. '/usr/hdp/2.4.2.0-258/spark/R/lib'\n",
       "2. '/home/chu/ar/mbg/R/libraries/3.5'\n",
       "3. '/opt/cesga/anaconda/Anaconda2-5.3.0/lib/R/library'\n",
       "\n",
       "\n"
      ],
      "text/plain": [
       "[1] \"/usr/hdp/2.4.2.0-258/spark/R/lib\"                 \n",
       "[2] \"/home/chu/ar/mbg/R/libraries/3.5\"                 \n",
       "[3] \"/opt/cesga/anaconda/Anaconda2-5.3.0/lib/R/library\""
      ]
     },
     "metadata": {},
     "output_type": "display_data"
    },
    {
     "data": {
      "text/html": [
       "'/opt/cesga/anaconda/Anaconda2-5.3.0/lib/R'"
      ],
      "text/latex": [
       "'/opt/cesga/anaconda/Anaconda2-5.3.0/lib/R'"
      ],
      "text/markdown": [
       "'/opt/cesga/anaconda/Anaconda2-5.3.0/lib/R'"
      ],
      "text/plain": [
       "[1] \"/opt/cesga/anaconda/Anaconda2-5.3.0/lib/R\""
      ]
     },
     "metadata": {},
     "output_type": "display_data"
    }
   ],
   "source": [
    ".libPaths()\n",
    "Sys.getenv(\"R_HOME\")"
   ]
  },
  {
   "cell_type": "markdown",
   "metadata": {},
   "source": [
    "### R session info"
   ]
  },
  {
   "cell_type": "code",
   "execution_count": 19,
   "metadata": {},
   "outputs": [
    {
     "data": {
      "text/plain": [
       "R version 3.5.1 (2018-07-02)\n",
       "Platform: x86_64-pc-linux-gnu (64-bit)\n",
       "Running under: CentOS Linux 7 (Core)\n",
       "\n",
       "Matrix products: default\n",
       "BLAS: /opt/cesga/anaconda/Anaconda2-5.3.0/lib/R/lib/libRblas.so\n",
       "LAPACK: /opt/cesga/anaconda/Anaconda2-5.3.0/lib/R/lib/libRlapack.so\n",
       "\n",
       "locale:\n",
       "[1] es_ES.UTF-8\n",
       "\n",
       "attached base packages:\n",
       "[1] stats     graphics  grDevices utils     datasets  methods   base     \n",
       "\n",
       "other attached packages:\n",
       "[1] bindrcpp_0.2.2       repr_0.15.0          ggplot2_3.0.0       \n",
       "[4] knitr_1.20           dplyr_0.7.6          sparklyr_0.8.4      \n",
       "[7] SparkR_1.6.1         RevoUtils_11.0.1     RevoUtilsMath_11.0.0\n",
       "\n",
       "loaded via a namespace (and not attached):\n",
       " [1] pbdZMQ_0.3-3     tidyselect_0.2.4 purrr_0.2.5      lattice_0.20-35 \n",
       " [5] colorspace_1.3-2 htmltools_0.3.6  yaml_2.2.0       base64enc_0.1-3 \n",
       " [9] rlang_0.2.1      later_0.7.3      pillar_1.3.0     withr_2.1.2     \n",
       "[13] glue_1.3.0       DBI_1.0.0        dbplyr_1.2.2     uuid_0.1-2      \n",
       "[17] bindr_0.1.1      plyr_1.8.4       stringr_1.3.1    munsell_0.5.0   \n",
       "[21] gtable_0.2.0     evaluate_0.11    labeling_0.3     httpuv_1.4.5    \n",
       "[25] parallel_3.5.1   broom_0.5.0      IRdisplay_0.5.0  Rcpp_0.12.18    \n",
       "[29] xtable_1.8-2     openssl_1.0.2    promises_1.0.1   backports_1.1.2 \n",
       "[33] scales_0.5.0     IRkernel_0.8.11  jsonlite_1.5     config_0.3      \n",
       "[37] mime_0.5         digest_0.6.15    stringi_1.2.4    shiny_1.1.0     \n",
       "[41] rprojroot_1.3-2  grid_3.5.1       tools_3.5.1      magrittr_1.5    \n",
       "[45] lazyeval_0.2.1   tibble_1.4.2     crayon_1.3.4     tidyr_0.8.1     \n",
       "[49] pkgconfig_2.0.1  assertthat_0.2.0 httr_1.3.1       rstudioapi_0.8  \n",
       "[53] R6_2.2.2         nlme_3.1-137     compiler_3.5.1  "
      ]
     },
     "metadata": {},
     "output_type": "display_data"
    }
   ],
   "source": [
    "sessionInfo()"
   ]
  },
  {
   "cell_type": "markdown",
   "metadata": {},
   "source": [
    "## References \n",
    "\n",
    "#### Sparklyr\n",
    "\n",
    "- [`sparklyr` workshop](https://github.com/aurora-mareviv/sparklyr_start)\n",
    "- [`sparklyr` presentation by RStudio](https://cdn.oreillystatic.com/en/assets/1/event/193/Sparklyr_%20An%20R%20interface%20for%20Apache%20Spark%20Presentation.pdf)\n",
    "- [`sparklyr` tutorial](http://spark.rstudio.com/).\n",
    "- [`sparklyr` cheatsheet](https://www.rstudio.com/resources/cheatsheets/#sparklyr).\n",
    "- [`sparklyr`: creating extensions](http://spark.rstudio.com/extensions.html).\n",
    "- [Differences between `sparkr` and `sparklyr`](https://stackoverflow.com/questions/39494484/sparkr-vs-sparklyr).\n",
    "- [Hive Operators and UDFs](https://cwiki.apache.org/confluence/display/Hive/LanguageManual+UDF).\n",
    "- [String Functions in Hive](http://www.folkstalk.com/2011/11/string-functions-in-hive.html).\n",
    "- [POSIX regular expressions](https://www.postgresql.org/docs/9.4/static/functions-matching.html#FUNCTIONS-POSIX-REGEXP).\n",
    "\n",
    "#### PySpark\n",
    "\n",
    "- [PySpark course](https://github.com/javicacheiro/pyspark_course)\n",
    "- [Material for Machine Learning Workshop Galicia 2016](http://nbviewer.jupyter.org/github/javicacheiro/machine_learning_galicia_2016/blob/master/notebooks/sentiment_analysis-amazon_books.ipynb).\n",
    "- [PySpark Programming Guide](https://spark.apache.org/docs/0.9.0/python-programming-guide.html).\n",
    "- [PySpark cheatsheet](https://s3.amazonaws.com/assets.datacamp.com/blog_assets/PySpark_SQL_Cheat_Sheet_Python.pdf).\n",
    "\n",
    "#### Jupyter\n",
    "- [Jupyter shortcuts](https://www.dataquest.io/blog/jupyter-notebook-tips-tricks-shortcuts/)"
   ]
  },
  {
   "cell_type": "markdown",
   "metadata": {},
   "source": [
    "Author: A. Baluja"
   ]
  },
  {
   "cell_type": "code",
   "execution_count": null,
   "metadata": {
    "collapsed": true
   },
   "outputs": [],
   "source": []
  }
 ],
 "metadata": {
  "kernelspec": {
   "display_name": "R",
   "language": "R",
   "name": "ir"
  },
  "language_info": {
   "codemirror_mode": "r",
   "file_extension": ".r",
   "mimetype": "text/x-r-source",
   "name": "R",
   "pygments_lexer": "r",
   "version": "3.5.1"
  }
 },
 "nbformat": 4,
 "nbformat_minor": 1
}
